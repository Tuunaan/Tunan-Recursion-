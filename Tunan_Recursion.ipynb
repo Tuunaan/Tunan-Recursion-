{
  "nbformat": 4,
  "nbformat_minor": 0,
  "metadata": {
    "colab": {
      "provenance": []
    },
    "kernelspec": {
      "name": "python3",
      "display_name": "Python 3"
    },
    "language_info": {
      "name": "python"
    }
  },
  "cells": [
    {
      "cell_type": "code",
      "execution_count": 1,
      "metadata": {
        "id": "dPBA483nYBqJ",
        "colab": {
          "base_uri": "https://localhost:8080/"
        },
        "outputId": "1c41432a-37b5-457c-babd-43c019a8ddea"
      },
      "outputs": [
        {
          "output_type": "execute_result",
          "data": {
            "text/plain": [
              "24"
            ]
          },
          "metadata": {},
          "execution_count": 1
        }
      ],
      "source": [
        "def factor(n):\n",
        "   if n==1 or n==0:\n",
        "     return 1\n",
        "   else:\n",
        "     ans=(n*factor(n-1))\n",
        "   return ans\n",
        "factor(4)\n"
      ]
    },
    {
      "cell_type": "code",
      "source": [
        "def fibon(n):\n",
        "   if n<=1:\n",
        "     return n\n",
        "   else:\n",
        "     ans=(fibon(n-1) + fibon(n-2))\n",
        "     return ans\n",
        "# for i in range(5):\n",
        "#   print(f\"{fibon(i)},\", end=\"\")\n",
        "fibon(5)\n"
      ],
      "metadata": {
        "colab": {
          "base_uri": "https://localhost:8080/"
        },
        "id": "M743jsRTYxDe",
        "outputId": "8cab952e-f828-444a-bc93-b4dc9a22c074"
      },
      "execution_count": 2,
      "outputs": [
        {
          "output_type": "execute_result",
          "data": {
            "text/plain": [
              "5"
            ]
          },
          "metadata": {},
          "execution_count": 2
        }
      ]
    },
    {
      "cell_type": "code",
      "source": [
        "def printarray(a,i):\n",
        "  l=len(a)\n",
        "  if i>=l:\n",
        "    return -1\n",
        "  else:\n",
        "    print(a[i])\n",
        "    printarray(a,i+1)\n",
        "z=[1,2,3,4,5]\n",
        "printarray(z,0)\n"
      ],
      "metadata": {
        "colab": {
          "base_uri": "https://localhost:8080/"
        },
        "id": "bQrfL-QVY0KL",
        "outputId": "283e75e6-de5f-460d-fa1e-7dd971864633"
      },
      "execution_count": 3,
      "outputs": [
        {
          "output_type": "stream",
          "name": "stdout",
          "text": [
            "1\n",
            "2\n",
            "3\n",
            "4\n",
            "5\n"
          ]
        }
      ]
    },
    {
      "cell_type": "code",
      "source": [
        "def powerN(x, y):\n",
        "  if y==0:\n",
        "    return 1\n",
        "  else:\n",
        "    return x*powerN(x,y-1)\n",
        "a=powerN(3,1)\n",
        "b=powerN(3,2)\n",
        "c=powerN(3,3)\n",
        "print(a)\n",
        "print(b)\n",
        "print(c)\n"
      ],
      "metadata": {
        "colab": {
          "base_uri": "https://localhost:8080/"
        },
        "id": "YByO-hTBY227",
        "outputId": "d9b89c44-6132-411c-e092-ce29162972c7"
      },
      "execution_count": 4,
      "outputs": [
        {
          "output_type": "stream",
          "name": "stdout",
          "text": [
            "3\n",
            "9\n",
            "27\n"
          ]
        }
      ]
    },
    {
      "cell_type": "code",
      "source": [
        "class Node:\n",
        "  def __init__(self, e, n):\n",
        "    self.element = e\n",
        "    self.next = n\n",
        "class SinglyLinearLinkedList:\n",
        "  def __init__(self, a):\n",
        "    self.a=a\n",
        "    self.head=Node(a[0], None)\n",
        "    tail=self.head\n",
        "    for i in range(1, len(a)):\n",
        "      n= Node(a[i], None)\n",
        "      tail.next=n\n",
        "      tail=tail.next\n",
        "a=[10,20,30,40,50]\n",
        "x=SinglyLinearLinkedList(a)\n",
        "new_head=x.head\n",
        "def addelem(new_head):\n",
        "  temp=new_head\n",
        "  if temp.next==None:\n",
        "    return temp.element\n",
        "  return temp.element+addelem(temp.next)\n",
        "print(addelem(new_head))\n"
      ],
      "metadata": {
        "colab": {
          "base_uri": "https://localhost:8080/"
        },
        "id": "cl--hp8fY6DT",
        "outputId": "c0b1be8c-3ccb-442b-da35-20d89c193678"
      },
      "execution_count": 5,
      "outputs": [
        {
          "output_type": "stream",
          "name": "stdout",
          "text": [
            "150\n"
          ]
        }
      ]
    },
    {
      "cell_type": "code",
      "source": [
        "def DectoBin(n,string):\n",
        "  if n==0:\n",
        "    return string\n",
        "  string=str(n%2)+string\n",
        "  n=n//2\n",
        "  return DectoBin(n,string)\n",
        "st=DectoBin(6, \"\")\n",
        "print(st)\n"
      ],
      "metadata": {
        "colab": {
          "base_uri": "https://localhost:8080/"
        },
        "id": "tXa34L8OY777",
        "outputId": "bece4c39-12f6-48be-ce52-23df4ddde1a5"
      },
      "execution_count": 6,
      "outputs": [
        {
          "output_type": "stream",
          "name": "stdout",
          "text": [
            "110\n"
          ]
        }
      ]
    },
    {
      "cell_type": "code",
      "source": [
        "class Node:\n",
        "  def __init__(self, e, n):\n",
        "    self.element = e\n",
        "    self.next = n\n",
        "class SinglyLinearLinkedList:\n",
        "  def __init__(self, a):\n",
        "    self.a=a\n",
        "    self.head=Node(a[0], None)\n",
        "    tail=self.head\n",
        "    for i in range(1, len(a)):\n",
        "      n= Node(a[i], None)\n",
        "      tail.next=n\n",
        "      tail=tail.next\n",
        "  def traverseList(self):\n",
        "    s = ''\n",
        "    temp = self.head\n",
        "    while temp != None:\n",
        "      if temp.next != None:\n",
        "        s += str(temp.element) + \" \"\n",
        "      else:\n",
        "        s += str(temp.element)\n",
        "      temp = temp.next\n",
        "    return s\n",
        "a=[10,20,30,40]\n",
        "x=SinglyLinearLinkedList(a)\n",
        "new_head=x.head\n",
        "def reverseprint(head):\n",
        "  temp=head\n",
        "  if temp==None:\n",
        "    return None\n",
        "  else:\n",
        "    reverseprint(temp.next)\n",
        "    print(temp.element)\n",
        "reverseprint(new_head)\n"
      ],
      "metadata": {
        "colab": {
          "base_uri": "https://localhost:8080/"
        },
        "id": "3uuCzKxOY_I3",
        "outputId": "1fc7ce9d-f318-4623-a2b6-6b3de8d6158e"
      },
      "execution_count": 7,
      "outputs": [
        {
          "output_type": "stream",
          "name": "stdout",
          "text": [
            "40\n",
            "30\n",
            "20\n",
            "10\n"
          ]
        }
      ]
    },
    {
      "cell_type": "code",
      "source": [
        "def house_of_cards(h):\n",
        "  if h==0:\n",
        "    return \"No house build\"\n",
        "  elif h==1:\n",
        "    return 8\n",
        "  else:\n",
        "    return 5+house_of_cards(h-1)\n",
        "print(house_of_cards(2))\n"
      ],
      "metadata": {
        "colab": {
          "base_uri": "https://localhost:8080/"
        },
        "id": "YLgkgKU-ZCix",
        "outputId": "4ff91578-402d-41ca-82e3-fcab52e80c1e"
      },
      "execution_count": 8,
      "outputs": [
        {
          "output_type": "stream",
          "name": "stdout",
          "text": [
            "13\n"
          ]
        }
      ]
    },
    {
      "cell_type": "code",
      "source": [
        "def row(val):\n",
        "  if val==0:\n",
        "    return\n",
        "  row(val-1)\n",
        "  print(val,\"\",end='')\n",
        "def coloum(n):\n",
        "  if n==0:\n",
        "    return\n",
        "  else:\n",
        "    coloum(n-1)\n",
        "    row(n)\n",
        "    print()\n",
        "coloum(4)\n"
      ],
      "metadata": {
        "colab": {
          "base_uri": "https://localhost:8080/"
        },
        "id": "e-LO3PzoZFBe",
        "outputId": "fdbc009c-513f-435b-80b6-0474a9c5447a"
      },
      "execution_count": 9,
      "outputs": [
        {
          "output_type": "stream",
          "name": "stdout",
          "text": [
            "1 \n",
            "1 2 \n",
            "1 2 3 \n",
            "1 2 3 4 \n"
          ]
        }
      ]
    },
    {
      "cell_type": "code",
      "source": [
        "def row(r):\n",
        "  if r==0:\n",
        "    return\n",
        "  row(r-1)\n",
        "  print(r,end='')\n",
        "def spaces(k,o):\n",
        "  if o==k:\n",
        "    return\n",
        "  spaces(k,o+1)\n",
        "  print(\" \",end=\"\")\n",
        "def coloum(k,n):\n",
        "  if n==0:\n",
        "    return\n",
        "  else:\n",
        "    coloum(k,n-1)\n",
        "    spaces(k,n)\n",
        "    row(n)\n",
        "    print(\"\")\n",
        "coloum(5,5)\n"
      ],
      "metadata": {
        "colab": {
          "base_uri": "https://localhost:8080/"
        },
        "id": "dRwswBNMZHR4",
        "outputId": "493dbada-70b4-4269-f6e1-a33b953041f5"
      },
      "execution_count": 10,
      "outputs": [
        {
          "output_type": "stream",
          "name": "stdout",
          "text": [
            "    1\n",
            "   12\n",
            "  123\n",
            " 1234\n",
            "12345\n"
          ]
        }
      ]
    },
    {
      "cell_type": "code",
      "source": [
        "class FinalQ:\n",
        "  def print(self,array,idx):\n",
        "      if(idx<len(array)):\n",
        "          profit = self.calcProfit(array[idx])\n",
        "          print(f\"Investement:{array[idx]}; Profit:{float(profit)}\")\n",
        "          self.print(array,idx+1)\n",
        "      else:\n",
        "          return 0\n",
        "  def calcProfit(self,investment):\n",
        "    if investment<=25000:\n",
        "      return 0\n",
        "    elif investment<=100000:\n",
        "      if investment%1000!=0:\n",
        "        return 4.5+self.calcProfit(investment-100)\n",
        "      else:\n",
        "        return 45+self.calcProfit(investment-1000)\n",
        "    else:\n",
        "      if investment%1000!=0:\n",
        "        return 8+self.calcProfit(investment-100)\n",
        "      else:\n",
        "        return 80+self.calcProfit(investment-1000)\n",
        "array=[25000,100000,250000,350000]\n",
        "f=FinalQ()\n",
        "f.print(array,0)\n"
      ],
      "metadata": {
        "colab": {
          "base_uri": "https://localhost:8080/"
        },
        "id": "bTCkkXWwZKPa",
        "outputId": "d98b72ef-2a70-45a3-f3bb-74c5a4fa42e3"
      },
      "execution_count": 11,
      "outputs": [
        {
          "output_type": "stream",
          "name": "stdout",
          "text": [
            "Investement:25000; Profit:0.0\n",
            "Investement:100000; Profit:3375.0\n",
            "Investement:250000; Profit:15375.0\n",
            "Investement:350000; Profit:23375.0\n"
          ]
        }
      ]
    },
    {
      "cell_type": "code",
      "source": [
        "def flattenList(given_list):\n",
        "    if given_list == []:\n",
        "        return given_list\n",
        "    if isinstance(given_list[0], list):\n",
        "        return flattenList(given_list[0]) + flattenList(given_list[1:])\n",
        "    return given_list[:1] + flattenList(given_list[1:])\n",
        "given_list = [1, [2, [3, [4], 5], 6], 7, 8, [9, [[10, 11], 12], 13], 14, [15, [16, [17]]]]\n",
        "output_list = flattenList(given_list)\n",
        "print(output_list)\n"
      ],
      "metadata": {
        "colab": {
          "base_uri": "https://localhost:8080/"
        },
        "id": "WHO_g5tkZNHu",
        "outputId": "c0ee76ff-a774-4c40-cd04-7311db74331e"
      },
      "execution_count": 12,
      "outputs": [
        {
          "output_type": "stream",
          "name": "stdout",
          "text": [
            "[1, 2, 3, 4, 5, 6, 7, 8, 9, 10, 11, 12, 13, 14, 15, 16, 17]\n"
          ]
        }
      ]
    }
  ]
}